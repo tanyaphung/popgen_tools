{
 "cells": [
  {
   "cell_type": "markdown",
   "metadata": {},
   "source": [
    "## Getting started\n",
    "### Clone the repo to your working directory\n",
    "```\n",
    "git clone https://github.com/tanyaphung/popgen_tools.git\n",
    "```\n",
    "\n",
    "### Version and dependencies\n",
    "* popgen_tools was developed and tested using Python version 3.7.2\n",
    "* Required dependencies are pandas (version 0.23.4)"
   ]
  },
  {
   "cell_type": "markdown",
   "metadata": {},
   "source": [
    "* Since I am running popgen_tools in an Jupyter notebook, this is the command I use to change to the popgen_tools directory. If you are running this in a Terminal (bash), you should use the command line version for bash. For example, to change the working directory, do:\n",
    "```\n",
    "cd \n",
    "```"
   ]
  },
  {
   "cell_type": "code",
   "execution_count": 1,
   "metadata": {},
   "outputs": [],
   "source": [
    "import os\n",
    "os.getcwd()\n",
    "os.chdir('c:\\\\Users\\\\tuyen\\\\Documents\\\\github_repo\\\\popgen_tools')"
   ]
  },
  {
   "cell_type": "markdown",
   "metadata": {},
   "source": [
    "To see the list of parameters and options:"
   ]
  },
  {
   "cell_type": "code",
   "execution_count": 2,
   "metadata": {},
   "outputs": [
    {
     "name": "stdout",
     "output_type": "stream",
     "text": [
      "usage: popgen_tools.py [-h] --vcf_file VCF_FILE [--names_list NAMES_LIST]\n",
      "                       [--pi] [--pi_all] [--pi_target] [--pi_window]\n",
      "                       [--sfs_all] [--target_bed TARGET_BED]\n",
      "                       [--window_bed WINDOW_BED]\n",
      "\n",
      "This program: (1) generates a 1-D site frequency spectrum, and (2) calculates\n",
      "genetic diversity, pi. Pi is defined as the average number of DNA differences\n",
      "between all pairs of sequence).\n",
      "\n",
      "optional arguments:\n",
      "  -h, --help            show this help message and exit\n",
      "  --vcf_file VCF_FILE   REQUIRED. Input the path to a VCF file. Either gzipped\n",
      "                        or not gzipped file works.\n",
      "  --names_list NAMES_LIST\n",
      "                        If you only want to generate the SFS and/or calculate\n",
      "                        genetic diversity for a subset of individuals from the\n",
      "                        VCF file, input the path to that file here. This file\n",
      "                        lists each individual on each line. If you want to\n",
      "                        perform the calculations for all of the individuals,do\n",
      "                        not use this flag.\n",
      "  --pi                  Turn on this flag if you want to calculate pi.\n",
      "  --pi_all              Turn on this flag if you want to calculate pi using\n",
      "                        all of the sites in the VCF file.\n",
      "  --pi_target           Turn on this flag if you want to calculate pi in\n",
      "                        regions of the genome specified by a BED file.\n",
      "  --pi_window           Turn on this flag if you want to calculate pi in\n",
      "                        windows in the presence of target_bed file.\n",
      "  --sfs_all             Turn on this flag if you want to calculate sfs using\n",
      "                        all of the sites in the VCF file.\n",
      "  --target_bed TARGET_BED\n",
      "                        If you want to calculate pi in regions of the genome\n",
      "                        specified by a BED file, input the path here.\n",
      "  --window_bed WINDOW_BED\n",
      "                        If you want to calculate genetic diversity in window\n",
      "                        in the presence of target_bed file, input the path\n",
      "                        here.\n"
     ]
    }
   ],
   "source": [
    "%run popgen_tools.py -h"
   ]
  },
  {
   "cell_type": "markdown",
   "metadata": {},
   "source": [
    "## Calculating genetic diversity \n",
    "### Calculating genetic diversity using all of the variants in the VCF file\n",
    "I have a VCF file called `GS_TM_chrX_cutoff_1.0.vcf`. This VCF file has the variants for 2 populations, GS and TM. There are 4 GS individuals and are labelled GS1, GS3, GS4, and GS5. There are 5 TM individuals and are labelled TM1, TM2, TM3, TM4, and TM5. "
   ]
  },
  {
   "cell_type": "code",
   "execution_count": 3,
   "metadata": {},
   "outputs": [
    {
     "name": "stdout",
     "output_type": "stream",
     "text": [
      "Pi for all of the variants in this population is  48.82142857142857\n"
     ]
    }
   ],
   "source": [
    "%run popgen_tools.py --vcf_file GS_TM_chrX_cutoff_1.0.vcf --names_list GS.txt --pi --pi_all"
   ]
  },
  {
   "cell_type": "markdown",
   "metadata": {},
   "source": [
    "## Calculate the site frequency spectrum\n",
    "### Calculating the site frequency spectrum using all of the variants in the VCF file"
   ]
  },
  {
   "cell_type": "code",
   "execution_count": 4,
   "metadata": {},
   "outputs": [
    {
     "name": "stdout",
     "output_type": "stream",
     "text": [
      "Time 0 ms\n"
     ]
    }
   ],
   "source": [
    "%run popgen_tools --vcf_file GS_TM_chrX_cutoff_1.0.vcf --names_list GS.txt --sfs_all"
   ]
  },
  {
   "cell_type": "code",
   "execution_count": 10,
   "metadata": {},
   "outputs": [
    {
     "name": "stdout",
     "output_type": "stream",
     "text": [
      "af_bin\tcount\r\n",
      "1\t50\r\n",
      "2\t45\r\n",
      "3\t19\r\n",
      "4\t12"
     ]
    }
   ],
   "source": [
    "%%bash \n",
    "cat sfs_all.out"
   ]
  },
  {
   "cell_type": "code",
   "execution_count": null,
   "metadata": {},
   "outputs": [],
   "source": []
  }
 ],
 "metadata": {
  "kernelspec": {
   "display_name": "Python 3",
   "language": "python",
   "name": "python3"
  },
  "language_info": {
   "codemirror_mode": {
    "name": "ipython",
    "version": 3
   },
   "file_extension": ".py",
   "mimetype": "text/x-python",
   "name": "python",
   "nbconvert_exporter": "python",
   "pygments_lexer": "ipython3",
   "version": "3.7.1"
  }
 },
 "nbformat": 4,
 "nbformat_minor": 2
}
